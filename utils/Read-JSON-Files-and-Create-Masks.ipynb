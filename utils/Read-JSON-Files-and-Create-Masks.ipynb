{
 "cells": [
  {
   "cell_type": "code",
   "execution_count": 1,
   "id": "bdfdb795",
   "metadata": {},
   "outputs": [],
   "source": [
    "import json\n",
    "import cv2\n",
    "import numpy as np\n",
    "import glob\n",
    "import matplotlib.pyplot as plt\n",
    "import pdb"
   ]
  },
  {
   "cell_type": "code",
   "execution_count": null,
   "id": "9bd4ac09",
   "metadata": {},
   "outputs": [],
   "source": [
    "# processing the train set images and the annotated masks\n",
    "folders = glob.glob(r\"C:\\Users\\kardoost\\Desktop\\images\\Inaki\\crystals-dataset\\tifs_H-He-61h\\train_set\\*\")\n",
    "print(len(folders))"
   ]
  },
  {
   "cell_type": "code",
   "execution_count": null,
   "id": "46b62470",
   "metadata": {},
   "outputs": [],
   "source": [
    "for folder in folders:\n",
    "    \n",
    "    print(folder)\n",
    "    files = glob.glob(folder + \"\\masks\\*.json\")\n",
    "    \n",
    "    for f_dir in files:\n",
    "        \n",
    "        with open(f_dir, 'r', encoding='utf-8') as f:\n",
    "            data = json.load(f)\n",
    "    \n",
    "        img_dir = glob.glob(folder + \"\\images\\*.tif\")\n",
    "        img = cv2.imread(img_dir[0])\n",
    "        \n",
    "        img = cv2.resize(img, [534, 534])\n",
    "        cv2.imwrite(img_dir[0][:-4] + \".png\", img)\n",
    "        \n",
    "        counter = 0\n",
    "        masks_overlap = np.zeros((534, 534))\n",
    "\n",
    "        scale_factor = 4 # this number depends on the size of the annotated masks and the input images to the model\n",
    "        \n",
    "        for i in data['shapes']:\n",
    "            \n",
    "            counter += 1\n",
    "            pts = []\n",
    "            mask = np.zeros((534, 534))\n",
    "            \n",
    "            for j in i['points']:\n",
    "                for index, item in enumerate(j):\n",
    "                    j[index] /= scale_factor\n",
    "                    \n",
    "                pts.append(j)\n",
    "            pts = np.asarray(pts)\n",
    "            pts = pts.astype(np.int32)\n",
    "            pts = pts.reshape((-1,1,2))\n",
    "            cv2.fillPoly(mask, [pts], 255)\n",
    "            plt.imshow(mask)\n",
    "            plt.show()\n",
    "            masks_overlap += mask\n",
    "        \n",
    "            cv2.imwrite(f_dir[:-5] + '_' + str(counter) + '.png', mask)    \n",
    "            \n",
    "        masks_overlap[np.where(masks_overlap > 255)] = 255\n",
    "        \n",
    "        masks_overlap_3 = np.zeros((534, 534, 3))\n",
    "        masks_overlap_3[:,:,0] = masks_overlap\n",
    "        masks_overlap_3[:,:,1] = masks_overlap\n",
    "        masks_overlap_3[:,:,2] = masks_overlap\n",
    "        \n",
    "        img_mask = 0.5*img + 0.5*(masks_overlap_3)\n",
    "        cv2.imwrite(folder + '\\img_masks_overlap.png', img_mask)"
   ]
  },
  {
   "cell_type": "markdown",
   "id": "d0d792a3",
   "metadata": {},
   "source": [
    "## Resize and Change the Type of Images in the Test set"
   ]
  },
  {
   "cell_type": "code",
   "execution_count": null,
   "id": "64fd27d7",
   "metadata": {},
   "outputs": [],
   "source": [
    "# processing the test set images\n",
    "folders = glob.glob(r\"C:\\Users\\kardoost\\Desktop\\images\\Inaki\\crystals-dataset\\tifs_H-He-61h\\test_set\\*\")\n",
    "len(folders)"
   ]
  },
  {
   "cell_type": "code",
   "execution_count": null,
   "id": "566013b9",
   "metadata": {},
   "outputs": [],
   "source": [
    "for folder in folders:\n",
    "    \n",
    "    print(folder)\n",
    "    \n",
    "    img_dir = glob.glob(folder + \"\\images\\*.tif\")\n",
    "    img = cv2.imread(img_dir[0])\n",
    "        \n",
    "    img = cv2.resize(img, [534, 534])\n",
    "    cv2.imwrite(img_dir[0][:-4] + \".png\", img)"
   ]
  }
 ],
 "metadata": {
  "kernelspec": {
   "display_name": "Python 3",
   "language": "python",
   "name": "python3"
  },
  "language_info": {
   "codemirror_mode": {
    "name": "ipython",
    "version": 3
   },
   "file_extension": ".py",
   "mimetype": "text/x-python",
   "name": "python",
   "nbconvert_exporter": "python",
   "pygments_lexer": "ipython3",
   "version": "3.9.6 (default, May  7 2023, 23:32:45) \n[Clang 14.0.3 (clang-1403.0.22.14.1)]"
  },
  "vscode": {
   "interpreter": {
    "hash": "31f2aee4e71d21fbe5cf8b01ff0e069b9275f58929596ceb00d14d90e3e16cd6"
   }
  }
 },
 "nbformat": 4,
 "nbformat_minor": 5
}
